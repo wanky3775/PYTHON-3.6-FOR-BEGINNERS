{
  "nbformat": 4,
  "nbformat_minor": 0,
  "metadata": {
    "colab": {
      "name": "SECTION 1 BASICS.ipynb",
      "provenance": [],
      "collapsed_sections": []
    },
    "kernelspec": {
      "name": "python3",
      "display_name": "Python 3"
    }
  },
  "cells": [
    {
      "cell_type": "markdown",
      "metadata": {
        "id": "cFeALa5oUM0d"
      },
      "source": [
        "COURSE : LEARN PYTHON 3.6 FOR TOTAL BEGINNERS\r\n"
      ]
    },
    {
      "cell_type": "markdown",
      "metadata": {
        "id": "i6UYuqfkYfpC"
      },
      "source": [
        "SECTION 1 : BASICS"
      ]
    },
    {
      "cell_type": "markdown",
      "metadata": {
        "id": "nRCCgG8eU28R"
      },
      "source": [
        "  1.1 VARIABLES AND MATHEMATICAL OPERATORS\r\n",
        "\r\n",
        "*   Variables are assigned objects (numbers , strings, lists...)\r\n",
        "*   Mathematical operators\r\n",
        "\r\n",
        "---\r\n",
        "\r\n",
        "\r\n",
        "    addition +\r\n",
        "    subtraction -\r\n",
        "    multiplication *\r\n",
        "    power **\r\n",
        "    division /\r\n",
        "    integer division //\r\n",
        "    modulus % (returns remainder of a division)\r\n",
        "\r\n",
        "\r\n",
        "\r\n",
        "\r\n",
        "\r\n",
        "\r\n",
        "\r\n",
        "\r\n",
        "\r\n",
        "\r\n",
        "\r\n",
        "\r\n"
      ]
    },
    {
      "cell_type": "code",
      "metadata": {
        "colab": {
          "base_uri": "https://localhost:8080/"
        },
        "id": "hDFib8bdXK7D",
        "outputId": "3d59681c-26b6-491d-aecf-0ce48b260651"
      },
      "source": [
        "x, y, z = 25, 80, 9.12345\r\n",
        "print (x, y, z)\r\n",
        "print(type(x),\r\n",
        "type(y),\r\n",
        "type(z),)\r\n"
      ],
      "execution_count": null,
      "outputs": [
        {
          "output_type": "stream",
          "text": [
            "25 80 9.12345\n",
            "<class 'int'> <class 'int'> <class 'float'>\n"
          ],
          "name": "stdout"
        }
      ]
    },
    {
      "cell_type": "markdown",
      "metadata": {
        "id": "wtJY_XdUZdwU"
      },
      "source": [
        "1.2 BOOLEAN AND COMPARISON OPERATORS\r\n",
        "\r\n",
        "---\r\n",
        "\r\n",
        "\r\n",
        "  COMPARISON OPERATORS\r\n",
        "\r\n",
        "---\r\n",
        "\r\n",
        "\r\n",
        "    < , >, >=, <=, == , !=\r\n",
        "\r\n",
        "---\r\n",
        "\r\n",
        "\r\n",
        "  BOOLEAN OPERATORS\r\n",
        "\r\n",
        "---\r\n",
        "\r\n",
        "\r\n",
        "    True - Numerical substitute is 1, \r\n",
        "    False - Numerical substitute is 0\r\n",
        "\r\n",
        "---\r\n",
        "  INVERSE BOOLEAN\r\n",
        "    The \"not\" statement can be used to create an inverse boolean\r\n",
        "\r\n",
        "---\r\n",
        "  MEMBERSHIP OPERATOR\r\n",
        "    The \"in\" statement checks if a variable is also found in another variable\r\n",
        "\r\n",
        "---\r\n",
        "  OTHER OPERATORS \r\n",
        "    \"and\" & \"or\"\r\n",
        "\r\n",
        "\r\n"
      ]
    },
    {
      "cell_type": "code",
      "metadata": {
        "colab": {
          "base_uri": "https://localhost:8080/"
        },
        "id": "-XJmsVGDbT2L",
        "outputId": "49b22ad0-e79d-4a67-8bc4-fe2e68a0dc0b"
      },
      "source": [
        "True\r\n",
        "print(True == 1)"
      ],
      "execution_count": null,
      "outputs": [
        {
          "output_type": "stream",
          "text": [
            "True\n"
          ],
          "name": "stdout"
        }
      ]
    },
    {
      "cell_type": "code",
      "metadata": {
        "colab": {
          "base_uri": "https://localhost:8080/"
        },
        "id": "R21nh3HwbY1C",
        "outputId": "cc390c34-eb61-42df-9d10-4a35c96b4149"
      },
      "source": [
        "False\r\n",
        "print (False == 0)\r\n",
        "print(False == 1)"
      ],
      "execution_count": null,
      "outputs": [
        {
          "output_type": "stream",
          "text": [
            "True\n",
            "False\n"
          ],
          "name": "stdout"
        }
      ]
    },
    {
      "cell_type": "code",
      "metadata": {
        "colab": {
          "base_uri": "https://localhost:8080/"
        },
        "id": "6YI3bTO6dOrC",
        "outputId": "dbb60bff-1ca1-4f36-cbbe-9cd693202cdc"
      },
      "source": [
        "var = \"house\"; var_1 = \"cinema\"; var_2 = \"temple\"\r\n",
        "print(\"o\"in var)\r\n",
        "print (\"z\"not in var_2)\r\n",
        "print (\"z\" in var_2)"
      ],
      "execution_count": null,
      "outputs": [
        {
          "output_type": "stream",
          "text": [
            "True\n",
            "True\n",
            "False\n"
          ],
          "name": "stdout"
        }
      ]
    },
    {
      "cell_type": "code",
      "metadata": {
        "colab": {
          "base_uri": "https://localhost:8080/"
        },
        "id": "W77yMW49d2pE",
        "outputId": "32fba15b-faa4-42ab-c37c-20abef6a9ae7"
      },
      "source": [
        "print(24>=20>4== 4 and 50<100>40 !=40)"
      ],
      "execution_count": null,
      "outputs": [
        {
          "output_type": "stream",
          "text": [
            "False\n"
          ],
          "name": "stdout"
        }
      ]
    },
    {
      "cell_type": "code",
      "metadata": {
        "colab": {
          "base_uri": "https://localhost:8080/"
        },
        "id": "6-c8InaKeEx5",
        "outputId": "c7018cfb-7ec6-4fcc-b9e3-1e7ce87c7744"
      },
      "source": [
        "print(24>=20>4== 4 or 50<100>40 !=40)"
      ],
      "execution_count": null,
      "outputs": [
        {
          "output_type": "stream",
          "text": [
            "True\n"
          ],
          "name": "stdout"
        }
      ]
    },
    {
      "cell_type": "markdown",
      "metadata": {
        "id": "_ayhUdU0fwqk"
      },
      "source": [
        "1.3 STRINGS AND LEN FUNCTION"
      ]
    },
    {
      "cell_type": "code",
      "metadata": {
        "colab": {
          "base_uri": "https://localhost:8080/"
        },
        "id": "kSoCj2Xjf6vk",
        "outputId": "531d311b-98c4-4470-da81-f8d02342b873"
      },
      "source": [
        "#@title  { display-mode: \"both\" }\n",
        "cat = \"meow\"; dog = \"woof\"; parrot = \"Hello\"\n",
        "print (cat, dog, parrot)\n",
        "print (cat, dog, parrot,sep=\",\")\n",
        "print (cat, dog, parrot,end=\"!!\")"
      ],
      "execution_count": null,
      "outputs": [
        {
          "output_type": "stream",
          "text": [
            "meow woof Hello\n",
            "meow,woof,Hello\n",
            "meow woof Hello!!"
          ],
          "name": "stdout"
        }
      ]
    },
    {
      "cell_type": "code",
      "metadata": {
        "colab": {
          "base_uri": "https://localhost:8080/"
        },
        "id": "r55uIM1nh2w5",
        "outputId": "da641429-4c69-4127-ae39-7c99d96b5ec5"
      },
      "source": [
        "day = \"Good Day\"\r\n",
        "night = \"Good night\"\r\n",
        "print (len(day))# len returns the length of string\r\n",
        "print(len(night))\r\n",
        "print(day.capitalize())# converts first letter of all words to capital\r\n",
        "print(day.casefold())# converts all to lower case\r\n",
        "print(day.isnumeric())#Return True if the string is a numeric , False otherwise.\r\n",
        "print(day.isupper())#Return True if the string is an uppercase, False otherwise.\r\n",
        "print(day.upper())# converts to uppercase\r\n",
        "print(day.lower())# converts to lower case\r\n",
        "print()\r\n",
        "print(day.count(\"o\"))# returns count\r\n",
        "lang = \"python\"\r\n",
        "print(\"This is a cool \" +lang + \" course!\")# concatenate strings using +"
      ],
      "execution_count": null,
      "outputs": [
        {
          "output_type": "stream",
          "text": [
            "8\n",
            "10\n",
            "Good day\n",
            "good day\n",
            "False\n",
            "False\n",
            "GOOD DAY\n",
            "good day\n",
            "\n",
            "2\n",
            "This is a cool python course!\n"
          ],
          "name": "stdout"
        }
      ]
    },
    {
      "cell_type": "code",
      "metadata": {
        "colab": {
          "base_uri": "https://localhost:8080/"
        },
        "id": "LBeuz8t5ogvN",
        "outputId": "93244073-6750-4be9-e27b-21290fe82080"
      },
      "source": [
        "num = 20\r\n",
        "print (\"lecture \" + str(num) + \" is on strings\") # if only num is put instead of\r\n",
        "# str(num) it will give error since str and num cannot be concatenated\r\n",
        "print(\"20\"+\"50\")# anything in quotes acts as str . Here cal will not happen\r\n",
        "print(20 + 50)\r\n",
        "# you can use eval \r\n",
        "eval(\"20\") + eval(\"50\") "
      ],
      "execution_count": null,
      "outputs": [
        {
          "output_type": "stream",
          "text": [
            "lecture 20 is on strings\n",
            "2050\n",
            "70\n"
          ],
          "name": "stdout"
        },
        {
          "output_type": "execute_result",
          "data": {
            "text/plain": [
              "70"
            ]
          },
          "metadata": {
            "tags": []
          },
          "execution_count": 55
        }
      ]
    },
    {
      "cell_type": "code",
      "metadata": {
        "colab": {
          "base_uri": "https://localhost:8080/"
        },
        "id": "6sTN1oySu_av",
        "outputId": "5d4509cc-3db3-44c3-cd75-40d9c8e137fa"
      },
      "source": [
        "messy = \"\"\"\\\\\\PLEASE #@ CLEANUP --THIS$% MESSY #@ DOCSTRING\r\n",
        "WHICH --CAN HAVE\\\\ MULTIPLE \\\\LINES\r\n",
        "OF STRING-- \"\"\"\r\n",
        "print(messy)\r\n",
        "print()\r\n",
        "print(messy.replace(\"\\\\\",\"\"))# Here \"\\\\\"replaced with \"\"(no value)\r\n",
        "print()\r\n",
        "print(messy.replace(\"\\\\\", \"?\"))\r\n",
        "print()\r\n",
        "print(messy.replace(\"\\\\\",\"\").replace(\"#@\",\"\").replace(\"$%\",\"\").replace(\"--\", \"\"))"
      ],
      "execution_count": null,
      "outputs": [
        {
          "output_type": "stream",
          "text": [
            "\\\\PLEASE #@ CLEANUP --THIS$% MESSY #@ DOCSTRING\n",
            "WHICH --CAN HAVE\\ MULTIPLE \\LINES\n",
            "OF STRING-- \n",
            "\n",
            "PLEASE #@ CLEANUP --THIS$% MESSY #@ DOCSTRING\n",
            "WHICH --CAN HAVE MULTIPLE LINES\n",
            "OF STRING-- \n",
            "\n",
            "??PLEASE #@ CLEANUP --THIS$% MESSY #@ DOCSTRING\n",
            "WHICH --CAN HAVE? MULTIPLE ?LINES\n",
            "OF STRING-- \n",
            "\n",
            "PLEASE  CLEANUP THIS MESSY  DOCSTRING\n",
            "WHICH CAN HAVE MULTIPLE LINES\n",
            "OF STRING \n"
          ],
          "name": "stdout"
        }
      ]
    },
    {
      "cell_type": "markdown",
      "metadata": {
        "id": "80e-dpUbzI-H"
      },
      "source": [
        "1.4 SLICE , SPLIT AND JOIN\r\n"
      ]
    },
    {
      "cell_type": "code",
      "metadata": {
        "id": "avzoJTNqzR7-"
      },
      "source": [
        "robot = \"technologically\"\r\n",
        "\r\n",
        "consoles = \"ps4 is cooler than xbox!\"\r\n",
        "\r\n",
        "code = \"ply1t3h4o5n6i7c8\"\r\n",
        "\r\n",
        "words = \"I saw a cat jump over the moon and into the clouds\"\r\n",
        "\r\n",
        "new_words = \" I saw a cow fly over the gates and into the forest\"\r\n",
        "\r\n",
        "paid = \" I received atotal of $5000\""
      ],
      "execution_count": null,
      "outputs": []
    },
    {
      "cell_type": "code",
      "metadata": {
        "colab": {
          "base_uri": "https://localhost:8080/"
        },
        "cellView": "code",
        "id": "VpjFlDbL08Dr",
        "outputId": "6309eeec-201d-441c-e553-fff1148839ed"
      },
      "source": [
        "robot = \"technologically\"\n",
        "print(len(robot))# len starts at 1\n",
        "print()\n",
        "print (robot)\n",
        "print(robot[:6])# slicing. Index starts at 0\n",
        "print(robot[6:])\n",
        "print()\n",
        "print(robot[-9:])# negative indexing\n",
        "print(robot[:-9])"
      ],
      "execution_count": null,
      "outputs": [
        {
          "output_type": "stream",
          "text": [
            "15\n",
            "\n",
            "technologically\n",
            "techno\n",
            "logically\n",
            "\n",
            "logically\n",
            "techno\n"
          ],
          "name": "stdout"
        }
      ]
    },
    {
      "cell_type": "code",
      "metadata": {
        "colab": {
          "base_uri": "https://localhost:8080/"
        },
        "id": "ou9QSmzm2y5D",
        "outputId": "9fadb03a-9f8f-4e29-8430-b6b30bef5d6c"
      },
      "source": [
        "consoles = \"ps4 is cooler than xbox!\"\r\n",
        "print(len(consoles))\r\n",
        "print(consoles.upper())\r\n",
        "print(consoles.index(\"4\"))# will return index of a particular character "
      ],
      "execution_count": null,
      "outputs": [
        {
          "output_type": "stream",
          "text": [
            "24\n",
            "PS4 IS COOLER THAN XBOX!\n",
            "2\n"
          ],
          "name": "stdout"
        }
      ]
    },
    {
      "cell_type": "code",
      "metadata": {
        "colab": {
          "base_uri": "https://localhost:8080/"
        },
        "id": "-kSJI0qE4wfO",
        "outputId": "0f225ac4-1dcc-4167-c69b-5cbad1efa957"
      },
      "source": [
        "code = \"p1y2t3h4o5n6i7c8\"\r\n",
        "print(code[::2])# using step \r\n",
        "print(code[:-1:2].upper())\r\n",
        "print(code[1::2])"
      ],
      "execution_count": null,
      "outputs": [
        {
          "output_type": "stream",
          "text": [
            "pythonic\n",
            "PYTHONIC\n",
            "12345678\n"
          ],
          "name": "stdout"
        }
      ]
    },
    {
      "cell_type": "code",
      "metadata": {
        "colab": {
          "base_uri": "https://localhost:8080/"
        },
        "id": "z5eLawvC7-v1",
        "outputId": "3425c491-97fe-4150-b06d-a7db3e7230c3"
      },
      "source": [
        "words = \"I saw a cat jump over the moon and into the clouds\"\r\n",
        "print(words)\r\n",
        "print(len(words))\r\n",
        "var = words.split()\r\n",
        "print(var)# This has split indl words and created a list\r\n",
        "print(len(var))\r\n",
        "print(var[5])\r\n",
        "print(var[3:8:2])"
      ],
      "execution_count": null,
      "outputs": [
        {
          "output_type": "stream",
          "text": [
            "I saw a cat jump over the moon and into the clouds\n",
            "50\n",
            "['I', 'saw', 'a', 'cat', 'jump', 'over', 'the', 'moon', 'and', 'into', 'the', 'clouds']\n",
            "12\n",
            "over\n",
            "['cat', 'over', 'moon']\n"
          ],
          "name": "stdout"
        }
      ]
    },
    {
      "cell_type": "code",
      "metadata": {
        "colab": {
          "base_uri": "https://localhost:8080/"
        },
        "id": "_mdSXhlP9pAo",
        "outputId": "a8b765bf-107a-4d1a-bc74-7aaff4954f21"
      },
      "source": [
        "new_words = \" I saw a cow fly over the gates and into the forest\"\r\n",
        "s1 = slice(3,12,2)# defining a slice\r\n",
        "var_1 = new_words.split()\r\n",
        "print(var_1)\r\n",
        "print(var_1[s1])\r\n",
        "print()\r\n",
        "print(new_words)\r\n",
        "print(new_words[s1])\r\n",
        "print()\r\n",
        "print(\"\".join(var_1))"
      ],
      "execution_count": null,
      "outputs": [
        {
          "output_type": "stream",
          "text": [
            "['I', 'saw', 'a', 'cow', 'fly', 'over', 'the', 'gates', 'and', 'into', 'the', 'forest']\n",
            "['cow', 'over', 'gates', 'into', 'forest']\n",
            "\n",
            " I saw a cow fly over the gates and into the forest\n",
            "swacw\n",
            "\n",
            "Isawacowflyoverthegatesandintotheforest\n"
          ],
          "name": "stdout"
        }
      ]
    },
    {
      "cell_type": "code",
      "metadata": {
        "colab": {
          "base_uri": "https://localhost:8080/"
        },
        "id": "HcBgYwxHAAVk",
        "outputId": "b571bdef-7fd3-4cca-f286-08f8f7204253"
      },
      "source": [
        "paid = \" I received a total of $5000\"\r\n",
        "print(paid.split(\"$\"))\r\n",
        "print(paid.split(\"$\")[1])"
      ],
      "execution_count": null,
      "outputs": [
        {
          "output_type": "stream",
          "text": [
            "[' I received a total of ', '5000']\n",
            "5000\n"
          ],
          "name": "stdout"
        }
      ]
    },
    {
      "cell_type": "markdown",
      "metadata": {
        "id": "Aj7Ps21SBb0S"
      },
      "source": [
        "1.5 FORMATTING STRINGS"
      ]
    },
    {
      "cell_type": "code",
      "metadata": {
        "colab": {
          "base_uri": "https://localhost:8080/"
        },
        "id": "SB1SvPsMBo3L",
        "outputId": "cb218819-d357-46d4-cf33-d5d4aefcc8d8"
      },
      "source": [
        "name = \"Micheal\" ; grade = \"A+\"\r\n",
        "print(\"The student's name is {} and his grade is {}\".format(name, grade))"
      ],
      "execution_count": null,
      "outputs": [
        {
          "output_type": "stream",
          "text": [
            "The student's name is Micheal and his grade is A+\n"
          ],
          "name": "stdout"
        }
      ]
    },
    {
      "cell_type": "code",
      "metadata": {
        "colab": {
          "base_uri": "https://localhost:8080/"
        },
        "id": "-AsDTm2DChgY",
        "outputId": "c86acd3c-ce39-4850-c8e4-ef03f1567fe0"
      },
      "source": [
        "animals = [\"lions\", \"zebras\", \"elephants\"]\r\n",
        "safari = \"I saw {}, {} and {}!\"\r\n",
        "print(safari.format(animals[0].upper(),animals[1].capitalize(),animals[2])) \r\n",
        "print()\r\n",
        "print(safari.format(*animals).upper())\r\n"
      ],
      "execution_count": null,
      "outputs": [
        {
          "output_type": "stream",
          "text": [
            "I saw LIONS, Zebras and elephants!\n",
            "\n",
            "I SAW LIONS, ZEBRAS AND ELEPHANTS!\n"
          ],
          "name": "stdout"
        }
      ]
    },
    {
      "cell_type": "code",
      "metadata": {
        "colab": {
          "base_uri": "https://localhost:8080/"
        },
        "id": "MY1AEF-qFRXj",
        "outputId": "4578d354-b356-430a-e0a9-90429bedd122"
      },
      "source": [
        "num = \"200\"\r\n",
        "print(eval(num) +10)# w/o eval num +10 will give error as num is string\r\n",
        "print()\r\n",
        "numbers = [10, 20, 30]\r\n",
        "print(\"{} + {} + {}\".format(*numbers))# printed as str\r\n",
        "print(eval(\"{} + {} + {}\".format(*numbers)))\r\n",
        "print()\r\n",
        "print(eval(\"{0} + {0} + {0}\".format(*numbers)))# can use index to add specific num\r\n",
        "print(eval(\"{1} + {1} + {2}\".format(*numbers)))"
      ],
      "execution_count": null,
      "outputs": [
        {
          "output_type": "stream",
          "text": [
            "210\n",
            "\n",
            "10 + 20 + 30\n",
            "60\n",
            "\n",
            "30\n",
            "70\n"
          ],
          "name": "stdout"
        }
      ]
    },
    {
      "cell_type": "code",
      "metadata": {
        "colab": {
          "base_uri": "https://localhost:8080/"
        },
        "id": "XLGKhuHAHZJF",
        "outputId": "4ece975c-2cbb-4f6a-ad1e-a98f4da58353"
      },
      "source": [
        "print(\"%d * %d = %f\" % (5, 3, 5/3))\r\n",
        "print(\"%d * %d = %.2f\"% (5, 3, 5/3))# .2f defines no of decimal places\r\n",
        "print()\r\n",
        "p1 = \"Python\" ; p2 = \"Older\"\r\n",
        "print(f\"\"\"This is a docstring using {p1} 3.6 and\r\n",
        "cant be used with {p2} version of {p1}.\"\"\".upper())"
      ],
      "execution_count": null,
      "outputs": [
        {
          "output_type": "stream",
          "text": [
            "5 * 3 = 1.666667\n",
            "5 * 3 = 1.67\n",
            "\n",
            "THIS IS A DOCSTRING USING PYTHON 3.6 AND\n",
            "CANT BE USED WITH OLDER VERSION OF PYTHON.\n"
          ],
          "name": "stdout"
        }
      ]
    }
  ]
}